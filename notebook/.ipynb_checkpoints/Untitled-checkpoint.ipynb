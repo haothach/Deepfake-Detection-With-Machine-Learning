{
 "cells": [
  {
   "cell_type": "markdown",
   "id": "80e403cd-5716-40b6-9263-be02294afcd4",
   "metadata": {},
   "source": [
    "# Data Transforming"
   ]
  },
  {
   "cell_type": "code",
   "execution_count": 1,
   "id": "e5d17940-7cfb-433a-84b4-46d36c0f3371",
   "metadata": {},
   "outputs": [],
   "source": [
    "import os\n",
    "import cv2\n",
    "import pandas as pd\n",
    "import matplotlib.pyplot as plt\n",
    "import numpy as np\n",
    "from pathlib import Path\n",
    "from skimage.feature import local_binary_pattern, hog\n",
    "from skimage.color import rgb2gray\n",
    "from tqdm import tqdm\n",
    "from sklearn.model_selection import train_test_split,  GridSearchCV\n",
    "from sklearn.svm import SVC, LinearSVC\n",
    "from sklearn.pipeline import Pipeline\n",
    "from sklearn.metrics import classification_report\n",
    "from sklearn.linear_model import LogisticRegression\n",
    "from sklearn.decomposition import PCA\n",
    "\n",
    "%matplotlib inline"
   ]
  },
  {
   "cell_type": "markdown",
   "id": "ac6fb895-c6ce-4fd0-8637-2fca4d60d893",
   "metadata": {},
   "source": [
    "## Xử lý ảnh"
   ]
  },
  {
   "cell_type": "markdown",
   "id": "2c7989e0-4adc-4989-996f-b0eb44580c78",
   "metadata": {},
   "source": [
    "### Hàm tiền xử lý ảnh"
   ]
  },
  {
   "cell_type": "code",
   "execution_count": 2,
   "id": "6efd1d6c-88c0-4504-8d2e-eaa743a7a977",
   "metadata": {},
   "outputs": [],
   "source": [
    "def preprocess_image(image_input, size=(128, 128), to_gray=True):\n",
    "    # Nếu là đường dẫn, đọc ảnh\n",
    "    if isinstance(image_input, str):\n",
    "        img = cv2.imread(image_input, cv2.IMREAD_UNCHANGED)\n",
    "        if img is None:\n",
    "            raise ValueError(f\"Không đọc được ảnh từ đường dẫn: {image_input}\")\n",
    "    # Nếu là ảnh ndarray, dùng trực tiếp\n",
    "    elif isinstance(image_input, np.ndarray):\n",
    "        img = image_input\n",
    "    else:\n",
    "        raise ValueError(\"Tham số truyền vào phải là đường dẫn hoặc ảnh numpy array\")\n",
    "\n",
    "    # Resize\n",
    "    img = cv2.resize(img, size)\n",
    "\n",
    "    # Convert to grayscale nếu cần\n",
    "    if to_gray:\n",
    "        if len(img.shape) == 2:\n",
    "            return img\n",
    "        elif len(img.shape) == 3 and img.shape[2] == 3:\n",
    "            return cv2.cvtColor(img, cv2.COLOR_BGR2GRAY)\n",
    "        else:\n",
    "            raise ValueError(\"Ảnh có số kênh không hợp lệ\")\n",
    "    return img\n"
   ]
  },
  {
   "cell_type": "markdown",
   "id": "7357d24b-a079-4d6b-b1e7-cb9ecedc301d",
   "metadata": {},
   "source": [
    "## Trích xuất vector từ ảnh"
   ]
  },
  {
   "cell_type": "markdown",
   "id": "5ab6c8c6-4b14-4918-afe1-78c4b23b68b0",
   "metadata": {},
   "source": [
    "### Extract HOG feature từ ảnh"
   ]
  },
  {
   "cell_type": "code",
   "execution_count": 3,
   "id": "1becac2a-c25d-45ca-9936-53ce9e4e89d1",
   "metadata": {},
   "outputs": [],
   "source": [
    "def extract_hog_features_opencv(image, size=(128, 128)):\n",
    "\n",
    "    gray = preprocess_image(image, size=size, to_gray=True)\n",
    "\n",
    "    hog = cv2.HOGDescriptor()\n",
    "    features = hog.compute(gray)\n",
    "    return features.flatten()"
   ]
  },
  {
   "cell_type": "markdown",
   "id": "13386b32-4702-4653-98d2-7eda3f5f9e13",
   "metadata": {},
   "source": [
    "### Extract LBP feature từ ảnh"
   ]
  },
  {
   "cell_type": "code",
   "execution_count": 4,
   "id": "d75009b9-38d7-4bf6-97a6-e470db1327b4",
   "metadata": {},
   "outputs": [],
   "source": [
    "def extract_lbp_features_blockwise(image_path, size=(128, 128), block_size=(16, 16), P=8, R=1, method='uniform'):\n",
    "    gray = preprocess_image(image_path, size)\n",
    "\n",
    "    lbp = local_binary_pattern(gray, P, R, method)\n",
    "\n",
    "    h, w = size\n",
    "    bh, bw = block_size\n",
    "    blocks_y = h // bh\n",
    "    blocks_x = w // bw\n",
    "\n",
    "    # Xác định số bins theo method\n",
    "    # if method == 'uniform':\n",
    "    #     n_bins = P + 2\n",
    "    # else:\n",
    "    #     n_bins = 2 ** P\n",
    "    n_bins=59\n",
    "\n",
    "    features = []\n",
    "    for i in range(blocks_y):\n",
    "        for j in range(blocks_x):\n",
    "            block = lbp[i*bh:(i+1)*bh, j*bw:(j+1)*bw]\n",
    "            hist, _ = np.histogram(block.ravel(), bins=n_bins, range=(0, n_bins))\n",
    "            hist = hist.astype(\"float32\")\n",
    "            hist /= (hist.sum() + 1e-6)  # chuẩn hóa\n",
    "            features.extend(hist)\n",
    "\n",
    "    return np.array(features)\n"
   ]
  },
  {
   "cell_type": "markdown",
   "id": "5e0cc4f9-5b3d-47a0-98ef-5192f4435cba",
   "metadata": {},
   "source": [
    "### Kết hợp HOG và LBP"
   ]
  },
  {
   "cell_type": "code",
   "execution_count": 35,
   "id": "f8ffc0f3-86f3-4842-965b-3e41ba5fcb9d",
   "metadata": {},
   "outputs": [],
   "source": [
    "def extract_hog_lbp_features(image, size=(128, 128)):\n",
    "    # Trích từng loại đặc trưng\n",
    "    hog_vec = extract_hog_features_opencv(image, size=size)\n",
    "    lbp_vec = extract_lbp_features_blockwise(image, size=size)\n",
    "\n",
    "    # Gộp 2 vector lại\n",
    "    combined = np.concatenate([hog_vec, lbp_vec])\n",
    "\n",
    "    return combined"
   ]
  },
  {
   "cell_type": "markdown",
   "id": "28da0f65-17db-4738-ae33-6e4fc7065022",
   "metadata": {},
   "source": [
    "## Trích xuất vector từ các ảnh trong thư mục"
   ]
  },
  {
   "cell_type": "markdown",
   "id": "9599218c-c749-4267-ab11-7f0bdf5144ee",
   "metadata": {},
   "source": [
    "### HOG"
   ]
  },
  {
   "cell_type": "code",
   "execution_count": 6,
   "id": "e741a80f-0680-40c9-9d31-1486b6b27172",
   "metadata": {},
   "outputs": [],
   "source": [
    "def load_hog_features_from_folder(folder_path, label_value, size=(128, 128)):\n",
    "    X_list = []\n",
    "    y_list = []\n",
    "\n",
    "    for file in tqdm(os.listdir(folder_path), desc=f\"Đang xử lý {folder_path}\"):\n",
    "        file_path = os.path.join(folder_path, file)\n",
    "        img = cv2.imread(file_path)\n",
    "        if img is None:\n",
    "            print(f\"Không đọc được ảnh: {file_path}\")\n",
    "            continue\n",
    "        try:\n",
    "            hog_vector = extract_hog_features_opencv(img, size=size)\n",
    "            X_list.append(hog_vector)\n",
    "            y_list.append(label_value)\n",
    "        except Exception as e:\n",
    "            print(f\"Lỗi xử lý ảnh {file_path}: {e}\")\n",
    "\n",
    "    # Chuyển sang NumPy array\n",
    "    X = np.array(X_list, dtype=np.float32)\n",
    "    y = np.array(y_list, dtype=np.uint8)\n",
    "    return X, y\n"
   ]
  },
  {
   "cell_type": "markdown",
   "id": "5780be2c-e766-474e-b8b1-e77337b92d10",
   "metadata": {},
   "source": [
    "### LBP "
   ]
  },
  {
   "cell_type": "code",
   "execution_count": 7,
   "id": "9543d9ff-40e4-4c4f-a632-c594849b67ec",
   "metadata": {},
   "outputs": [],
   "source": [
    "def load_lbp_features_from_folder(folder_path, label_value, size=(128, 128),\n",
    "                                  block_size=(16, 16), P=8, R=1, method='uniform', max_images=None):\n",
    "    \n",
    "    X_list = []\n",
    "    y_list = []\n",
    "\n",
    "    files = [f for f in os.listdir(folder_path) if f.lower().endswith(('.jpg', '.jpeg', '.png'))]\n",
    "    if max_images:\n",
    "        files = files[:max_images]\n",
    "\n",
    "    for file in tqdm(files, desc=f\"Đang xử lý {folder_path}\"):\n",
    "        file_path = os.path.join(folder_path, file)\n",
    "        try:\n",
    "            lbp_vector = extract_lbp_features_blockwise(\n",
    "                file_path, size=size, block_size=block_size,\n",
    "                P=P, R=R, method=method\n",
    "            )\n",
    "            X_list.append(lbp_vector)\n",
    "            y_list.append(label_value)\n",
    "        except Exception as e:\n",
    "            print(f\"Lỗi xử lý ảnh {file_path}: {e}\")\n",
    "\n",
    "    X = np.array(X_list, dtype=np.float32)\n",
    "    y = np.array(y_list, dtype=np.uint8)\n",
    "    return X, y"
   ]
  },
  {
   "cell_type": "markdown",
   "id": "108d98df-2650-4498-8275-9d561cc89dd8",
   "metadata": {},
   "source": [
    "### HOG + LBP"
   ]
  },
  {
   "cell_type": "code",
   "execution_count": 63,
   "id": "4587f645-6a2c-422b-bc5a-47d04e5ce410",
   "metadata": {},
   "outputs": [],
   "source": [
    "def load_hog_lbp_features_from_folder(folder_path, label_value, size=(128, 128),\n",
    "                                      block_size=(16, 16), P=8, R=1, method='uniform',\n",
    "                                      max_images=None):\n",
    "    X_list = []\n",
    "    y_list = []\n",
    "\n",
    "    # Lọc file ảnh\n",
    "    files = [f for f in os.listdir(folder_path) if f.lower().endswith(('.jpg', '.jpeg', '.png'))]\n",
    "    if max_images:\n",
    "        files = files[:max_images]\n",
    "\n",
    "    for file in tqdm(files, desc=f\"Đang xử lý {folder_path}\"):\n",
    "        file_path = os.path.join(folder_path, file)\n",
    "        try:\n",
    "            combined_vector = extract_hog_lbp_features(file_path, size=size)\n",
    "            X_list.append(combined_vector)\n",
    "            y_list.append(label_value)\n",
    "        except Exception as e:\n",
    "            print(f\"Lỗi xử lý ảnh {file_path}: {e}\")\n",
    "\n",
    "    X = np.array(X_list, dtype=np.float32)\n",
    "    y = np.array(y_list, dtype=np.uint8)\n",
    "    return X, y"
   ]
  },
  {
   "cell_type": "markdown",
   "id": "943b7484-2582-4d51-ac8f-535dd83563f0",
   "metadata": {},
   "source": [
    "## Xây dựng dataframe từ vector"
   ]
  },
  {
   "cell_type": "markdown",
   "id": "d9660f28-fcab-441a-87ef-8fb69c48e17c",
   "metadata": {},
   "source": [
    "### Build HOG Numpy"
   ]
  },
  {
   "cell_type": "code",
   "execution_count": 64,
   "id": "8e4ace9b-10b5-414c-ad5a-226e0803e1c3",
   "metadata": {},
   "outputs": [],
   "source": [
    "def build_hog_dataset(real_folder, fake_folder, size=(128, 128)):\n",
    "    X_real, y_real = load_hog_features_from_folder(real_folder, label_value=1, size=size)\n",
    "    X_fake, y_fake = load_hog_features_from_folder(fake_folder, label_value=0, size=size)\n",
    "\n",
    "    X = np.vstack([X_real, X_fake])\n",
    "    y = np.concatenate([y_real, y_fake])\n",
    "    return X, y"
   ]
  },
  {
   "cell_type": "markdown",
   "id": "af78ffc8-a177-425b-8ff8-fd62cb5ac731",
   "metadata": {},
   "source": [
    "### Build LBP Numpy"
   ]
  },
  {
   "cell_type": "code",
   "execution_count": 6,
   "id": "78b4ecee-5e96-4568-be13-d60777ffc7db",
   "metadata": {},
   "outputs": [],
   "source": [
    "def build_lbp_numpy(real_folder, fake_folder, size=(128, 128),\n",
    "                      block_size=(16, 16), P=8, R=1, method='uniform', max_images=None):\n",
    "    X_real, y_real = load_lbp_features_from_folder(real_folder, label_value=1,\n",
    "                                                   size=size, block_size=block_size,\n",
    "                                                   P=P, R=R, method=method, max_images=max_images)\n",
    "    X_fake, y_fake = load_lbp_features_from_folder(fake_folder, label_value=0,\n",
    "                                                   size=size, block_size=block_size,\n",
    "                                                   P=P, R=R, method=method, max_images=max_images)\n",
    "    X = np.vstack([X_real, X_fake])\n",
    "    y = np.concatenate([y_real, y_fake])\n",
    "    return X, y"
   ]
  },
  {
   "cell_type": "markdown",
   "id": "f1823fd9-a4db-4186-ad29-7e9363b79fcf",
   "metadata": {},
   "source": [
    "### Build HOG + LBP Numpy"
   ]
  },
  {
   "cell_type": "code",
   "execution_count": 4,
   "id": "5d92fa10-1a2e-4a3c-ad0b-4448cd3bc37c",
   "metadata": {},
   "outputs": [],
   "source": [
    "def build_hog_lbp_numpy(real_folder, fake_folder, size=(128, 128), max_images=None):\n",
    "    # Real -> label 0\n",
    "    X_real, y_real = load_hog_lbp_features_from_folder(real_folder, label_value=0, size=size, max_images=max_images)\n",
    "\n",
    "    # Fake -> label 1\n",
    "    X_fake, y_fake = load_hog_lbp_features_from_folder(fake_folder, label_value=1, size=size, max_images=max_images)\n",
    "    \n",
    "    # Ghép lại\n",
    "    X = np.vstack([X_real, X_fake])\n",
    "    y = np.concatenate([y_real, y_fake])\n",
    "\n",
    "    return X, y"
   ]
  },
  {
   "cell_type": "markdown",
   "id": "50aab22f-4a3b-4606-9d21-76c48f2fa239",
   "metadata": {},
   "source": [
    "## Tạo Vector"
   ]
  },
  {
   "cell_type": "code",
   "execution_count": 1,
   "id": "29ff25ec-396a-43a0-abe1-fba8b0395c32",
   "metadata": {},
   "outputs": [],
   "source": [
    "real_dir = \"../data/cropped/train/cropped_real\"\n",
    "fake_dir = \"../data/cropped/train/cropped_fake\"\n",
    "real_test_dir = \"../data/cropped/test/cropped_real\"\n",
    "fake_test_dir = \"../data/cropped/test/cropped_real\""
   ]
  },
  {
   "cell_type": "code",
   "execution_count": 2,
   "id": "5a218e49-835d-4553-b265-0e9908d1d570",
   "metadata": {},
   "outputs": [],
   "source": [
    "# Tạo thư mục nếu chưa tồn tại\n",
    "# os.makedirs('../models/vector', exist_ok=True)"
   ]
  },
  {
   "cell_type": "markdown",
   "id": "d00f6dd2-1577-4ab2-9e5d-2fdf82ccd3f5",
   "metadata": {},
   "source": [
    "### HOG"
   ]
  },
  {
   "cell_type": "code",
   "execution_count": 12,
   "id": "3b3abf44-879e-4fe8-8595-5ea2c03e002d",
   "metadata": {
    "scrolled": true
   },
   "outputs": [],
   "source": [
    "# X, y = build_hog_numpy(real_folder=\"../data/cropped/train/cropped_real\", \n",
    "#                        fake_folder=\"../data/cropped/train/cropped_fake\", \n",
    "#                        size=(128, 128))"
   ]
  },
  {
   "cell_type": "code",
   "execution_count": 13,
   "id": "9a433ef1-e75c-43fe-b8c1-abac20afaa88",
   "metadata": {},
   "outputs": [],
   "source": [
    "# X_test, y_test = build_hog_numpy(real_folder=\"../data/cropped/test/cropped_real\", \n",
    "#                        fake_folder=\"../data/cropped/test/cropped_fake\", \n",
    "#                        size=(128, 128))"
   ]
  },
  {
   "cell_type": "code",
   "execution_count": 14,
   "id": "4a6e76d8-a10f-42f1-b4c7-c91eac4dbd2c",
   "metadata": {},
   "outputs": [],
   "source": [
    "# np.save(\"../models/vector/X_hog.npy\", X)\n",
    "# np.save(\"../models/vector/y_hog.npy\", y)\n",
    "# np.save(\"../models/vector/X_hog_test.npy\", X_test)\n",
    "# np.save(\"../models/vector/y_hog_test.npy\", y_test)"
   ]
  },
  {
   "cell_type": "markdown",
   "id": "2d3b3d7a-b7ab-4cc3-b67d-48053c14e460",
   "metadata": {},
   "source": [
    "### LBP"
   ]
  },
  {
   "cell_type": "code",
   "execution_count": 7,
   "id": "547caac0-0dfb-442a-ac3e-84b0fb361118",
   "metadata": {
    "scrolled": true
   },
   "outputs": [
    {
     "ename": "NameError",
     "evalue": "name 'load_lbp_features_from_folder' is not defined",
     "output_type": "error",
     "traceback": [
      "\u001b[1;31m---------------------------------------------------------------------------\u001b[0m",
      "\u001b[1;31mNameError\u001b[0m                                 Traceback (most recent call last)",
      "Cell \u001b[1;32mIn[7], line 1\u001b[0m\n\u001b[1;32m----> 1\u001b[0m X_lbp, y_lbp \u001b[38;5;241m=\u001b[39m build_lbp_numpy(real_dir, fake_dir)\n\u001b[0;32m      3\u001b[0m \u001b[38;5;28mprint\u001b[39m(\u001b[38;5;124m\"\u001b[39m\u001b[38;5;124mX_lbp shape:\u001b[39m\u001b[38;5;124m\"\u001b[39m, X_lbp\u001b[38;5;241m.\u001b[39mshape)\n\u001b[0;32m      4\u001b[0m \u001b[38;5;28mprint\u001b[39m(\u001b[38;5;124m\"\u001b[39m\u001b[38;5;124my_lbp shape:\u001b[39m\u001b[38;5;124m\"\u001b[39m, y_lbp\u001b[38;5;241m.\u001b[39mshape)\n",
      "Cell \u001b[1;32mIn[6], line 3\u001b[0m, in \u001b[0;36mbuild_lbp_numpy\u001b[1;34m(real_folder, fake_folder, size, block_size, P, R, method, max_images)\u001b[0m\n\u001b[0;32m      1\u001b[0m \u001b[38;5;28;01mdef\u001b[39;00m \u001b[38;5;21mbuild_lbp_numpy\u001b[39m(real_folder, fake_folder, size\u001b[38;5;241m=\u001b[39m(\u001b[38;5;241m128\u001b[39m, \u001b[38;5;241m128\u001b[39m),\n\u001b[0;32m      2\u001b[0m                       block_size\u001b[38;5;241m=\u001b[39m(\u001b[38;5;241m16\u001b[39m, \u001b[38;5;241m16\u001b[39m), P\u001b[38;5;241m=\u001b[39m\u001b[38;5;241m8\u001b[39m, R\u001b[38;5;241m=\u001b[39m\u001b[38;5;241m1\u001b[39m, method\u001b[38;5;241m=\u001b[39m\u001b[38;5;124m'\u001b[39m\u001b[38;5;124muniform\u001b[39m\u001b[38;5;124m'\u001b[39m, max_images\u001b[38;5;241m=\u001b[39m\u001b[38;5;28;01mNone\u001b[39;00m):\n\u001b[1;32m----> 3\u001b[0m     X_real, y_real \u001b[38;5;241m=\u001b[39m load_lbp_features_from_folder(real_folder, label_value\u001b[38;5;241m=\u001b[39m\u001b[38;5;241m1\u001b[39m,\n\u001b[0;32m      4\u001b[0m                                                    size\u001b[38;5;241m=\u001b[39msize, block_size\u001b[38;5;241m=\u001b[39mblock_size,\n\u001b[0;32m      5\u001b[0m                                                    P\u001b[38;5;241m=\u001b[39mP, R\u001b[38;5;241m=\u001b[39mR, method\u001b[38;5;241m=\u001b[39mmethod, max_images\u001b[38;5;241m=\u001b[39mmax_images)\n\u001b[0;32m      6\u001b[0m     X_fake, y_fake \u001b[38;5;241m=\u001b[39m load_lbp_features_from_folder(fake_folder, label_value\u001b[38;5;241m=\u001b[39m\u001b[38;5;241m0\u001b[39m,\n\u001b[0;32m      7\u001b[0m                                                    size\u001b[38;5;241m=\u001b[39msize, block_size\u001b[38;5;241m=\u001b[39mblock_size,\n\u001b[0;32m      8\u001b[0m                                                    P\u001b[38;5;241m=\u001b[39mP, R\u001b[38;5;241m=\u001b[39mR, method\u001b[38;5;241m=\u001b[39mmethod, max_images\u001b[38;5;241m=\u001b[39mmax_images)\n\u001b[0;32m      9\u001b[0m     X \u001b[38;5;241m=\u001b[39m np\u001b[38;5;241m.\u001b[39mvstack([X_real, X_fake])\n",
      "\u001b[1;31mNameError\u001b[0m: name 'load_lbp_features_from_folder' is not defined"
     ]
    }
   ],
   "source": [
    "X_lbp, y_lbp = build_lbp_numpy(real_dir, fake_dir)\n",
    "\n",
    "print(\"X_lbp shape:\", X_lbp.shape)\n",
    "print(\"y_lbp shape:\", y_lbp.shape)\n",
    "print(\"Số chiều mỗi vector:\", X_lbp.shape[1])"
   ]
  },
  {
   "cell_type": "code",
   "execution_count": 8,
   "id": "74ea06a9-14a6-46e9-a83d-5f9f838a566f",
   "metadata": {},
   "outputs": [
    {
     "ename": "NameError",
     "evalue": "name 'load_lbp_features_from_folder' is not defined",
     "output_type": "error",
     "traceback": [
      "\u001b[1;31m---------------------------------------------------------------------------\u001b[0m",
      "\u001b[1;31mNameError\u001b[0m                                 Traceback (most recent call last)",
      "Cell \u001b[1;32mIn[8], line 4\u001b[0m\n\u001b[0;32m      1\u001b[0m real_test_dir \u001b[38;5;241m=\u001b[39m \u001b[38;5;124m\"\u001b[39m\u001b[38;5;124m../data/cropped/test/cropped_real\u001b[39m\u001b[38;5;124m\"\u001b[39m\n\u001b[0;32m      2\u001b[0m fake_test_dir \u001b[38;5;241m=\u001b[39m \u001b[38;5;124m\"\u001b[39m\u001b[38;5;124m../data/cropped/test/cropped_fake\u001b[39m\u001b[38;5;124m\"\u001b[39m\n\u001b[1;32m----> 4\u001b[0m X_lbp_test, y_lbp_test \u001b[38;5;241m=\u001b[39m build_lbp_numpy(real_test_dir, fake_test_dir)\n\u001b[0;32m      6\u001b[0m \u001b[38;5;28mprint\u001b[39m(\u001b[38;5;124m\"\u001b[39m\u001b[38;5;124mX_lbp test shape:\u001b[39m\u001b[38;5;124m\"\u001b[39m, X_lbp_test\u001b[38;5;241m.\u001b[39mshape)\n\u001b[0;32m      7\u001b[0m \u001b[38;5;28mprint\u001b[39m(\u001b[38;5;124m\"\u001b[39m\u001b[38;5;124my_lbp test shape:\u001b[39m\u001b[38;5;124m\"\u001b[39m, y_lbp_test\u001b[38;5;241m.\u001b[39mshape)\n",
      "Cell \u001b[1;32mIn[6], line 3\u001b[0m, in \u001b[0;36mbuild_lbp_numpy\u001b[1;34m(real_folder, fake_folder, size, block_size, P, R, method, max_images)\u001b[0m\n\u001b[0;32m      1\u001b[0m \u001b[38;5;28;01mdef\u001b[39;00m \u001b[38;5;21mbuild_lbp_numpy\u001b[39m(real_folder, fake_folder, size\u001b[38;5;241m=\u001b[39m(\u001b[38;5;241m128\u001b[39m, \u001b[38;5;241m128\u001b[39m),\n\u001b[0;32m      2\u001b[0m                       block_size\u001b[38;5;241m=\u001b[39m(\u001b[38;5;241m16\u001b[39m, \u001b[38;5;241m16\u001b[39m), P\u001b[38;5;241m=\u001b[39m\u001b[38;5;241m8\u001b[39m, R\u001b[38;5;241m=\u001b[39m\u001b[38;5;241m1\u001b[39m, method\u001b[38;5;241m=\u001b[39m\u001b[38;5;124m'\u001b[39m\u001b[38;5;124muniform\u001b[39m\u001b[38;5;124m'\u001b[39m, max_images\u001b[38;5;241m=\u001b[39m\u001b[38;5;28;01mNone\u001b[39;00m):\n\u001b[1;32m----> 3\u001b[0m     X_real, y_real \u001b[38;5;241m=\u001b[39m load_lbp_features_from_folder(real_folder, label_value\u001b[38;5;241m=\u001b[39m\u001b[38;5;241m1\u001b[39m,\n\u001b[0;32m      4\u001b[0m                                                    size\u001b[38;5;241m=\u001b[39msize, block_size\u001b[38;5;241m=\u001b[39mblock_size,\n\u001b[0;32m      5\u001b[0m                                                    P\u001b[38;5;241m=\u001b[39mP, R\u001b[38;5;241m=\u001b[39mR, method\u001b[38;5;241m=\u001b[39mmethod, max_images\u001b[38;5;241m=\u001b[39mmax_images)\n\u001b[0;32m      6\u001b[0m     X_fake, y_fake \u001b[38;5;241m=\u001b[39m load_lbp_features_from_folder(fake_folder, label_value\u001b[38;5;241m=\u001b[39m\u001b[38;5;241m0\u001b[39m,\n\u001b[0;32m      7\u001b[0m                                                    size\u001b[38;5;241m=\u001b[39msize, block_size\u001b[38;5;241m=\u001b[39mblock_size,\n\u001b[0;32m      8\u001b[0m                                                    P\u001b[38;5;241m=\u001b[39mP, R\u001b[38;5;241m=\u001b[39mR, method\u001b[38;5;241m=\u001b[39mmethod, max_images\u001b[38;5;241m=\u001b[39mmax_images)\n\u001b[0;32m      9\u001b[0m     X \u001b[38;5;241m=\u001b[39m np\u001b[38;5;241m.\u001b[39mvstack([X_real, X_fake])\n",
      "\u001b[1;31mNameError\u001b[0m: name 'load_lbp_features_from_folder' is not defined"
     ]
    }
   ],
   "source": [
    "X_lbp_test, y_lbp_test = build_lbp_numpy(real_test_dir, fake_test_dir)\n",
    "\n",
    "print(\"X_lbp test shape:\", X_lbp_test.shape)\n",
    "print(\"y_lbp test shape:\", y_lbp_test.shape)\n",
    "print(\"Số chiều mỗi vector:\", X_lbp_test.shape[1])"
   ]
  },
  {
   "cell_type": "code",
   "execution_count": 18,
   "id": "70a5e2af-0e2b-4a60-a8b5-fe3a2a31d5f4",
   "metadata": {},
   "outputs": [],
   "source": [
    "np.save(\"../models/vector/X_lbp.npy\", X_lbp )\n",
    "np.save(\"../models/vector/y_lbp.npy\", y_lbp )\n",
    "np.save(\"../models/vector/X_lbp_test.npy\", X_lbp_test)\n",
    "np.save(\"../models/vector/y_lbp_test.npy\", y_lbp_test)"
   ]
  },
  {
   "cell_type": "markdown",
   "id": "35ce749c-1cb6-4bf8-bcb1-6c20f0e96eb0",
   "metadata": {},
   "source": [
    "### HOG + LBP"
   ]
  },
  {
   "cell_type": "code",
   "execution_count": 66,
   "id": "44b64792-6cc5-492e-b506-b3e63bc9cd33",
   "metadata": {},
   "outputs": [
    {
     "name": "stderr",
     "output_type": "stream",
     "text": [
      "Đang xử lý ../data/cropped/train/cropped_real: 100%|██████████████████████████████| 9606/9606 [01:24<00:00, 113.65it/s]\n",
      "Đang xử lý ../data/cropped/train/cropped_fake: 100%|██████████████████████████████| 9448/9448 [01:22<00:00, 114.98it/s]\n"
     ]
    },
    {
     "name": "stdout",
     "output_type": "stream",
     "text": [
      "X shape: (19054, 37796)\n",
      "y shape: (19054,)\n",
      "Số chiều mỗi vector: 37796\n"
     ]
    }
   ],
   "source": [
    "X, y = build_hog_lbp_numpy(real_dir, fake_dir)\n",
    "\n",
    "print(\"X shape:\", X.shape)\n",
    "print(\"y shape:\", y.shape)\n",
    "print(\"Số chiều mỗi vector:\", X.shape[1])"
   ]
  },
  {
   "cell_type": "code",
   "execution_count": 67,
   "id": "d414e17c-b813-462f-8583-1faea5d3ec86",
   "metadata": {
    "scrolled": true
   },
   "outputs": [
    {
     "name": "stderr",
     "output_type": "stream",
     "text": [
      "Đang xử lý ../data/cropped/test/cropped_real: 100%|███████████████████████████████| 2534/2534 [00:22<00:00, 114.43it/s]\n",
      "Đang xử lý ../data/cropped/test/cropped_fake: 100%|███████████████████████████████| 2478/2478 [00:21<00:00, 115.90it/s]\n"
     ]
    },
    {
     "name": "stdout",
     "output_type": "stream",
     "text": [
      "X shape: (5012, 37796)\n",
      "y shape: (5012,)\n",
      "Số chiều mỗi vector: 37796\n"
     ]
    }
   ],
   "source": [
    "X_test, y_test = build_hog_lbp_numpy(real_test_dir, fake_test_dir)\n",
    "\n",
    "print(\"X shape:\", X_test.shape)\n",
    "print(\"y shape:\", y_test.shape)\n",
    "print(\"Số chiều mỗi vector:\", X_test.shape[1])"
   ]
  },
  {
   "cell_type": "code",
   "execution_count": 44,
   "id": "83d19515-182d-425a-ba91-106bec529bd2",
   "metadata": {},
   "outputs": [
    {
     "data": {
      "text/plain": [
       "(5012, 37796)"
      ]
     },
     "execution_count": 44,
     "metadata": {},
     "output_type": "execute_result"
    }
   ],
   "source": [
    "X_test.shape"
   ]
  },
  {
   "cell_type": "markdown",
   "id": "a236c1da-c9e8-4aa1-9da8-56237a8092f0",
   "metadata": {},
   "source": [
    "## Training Model"
   ]
  },
  {
   "cell_type": "code",
   "execution_count": 11,
   "id": "b75be625-3525-4c8b-843c-dd00bbf69d07",
   "metadata": {},
   "outputs": [],
   "source": [
    "# X = df_hog.drop(\"label\", axis=1)  # X: toàn bộ các đặc trưng\n",
    "# y = df_hog[\"label\"]               # y: nhãn"
   ]
  },
  {
   "cell_type": "code",
   "execution_count": 13,
   "id": "a154d3f8-e399-4830-bf4f-2f76f6c8334a",
   "metadata": {},
   "outputs": [],
   "source": [
    "# X_test_hog = df_hog_test.drop(\"label\", axis=1)  # X: toàn bộ các đặc trưng\n",
    "# y_test_hog = df_hog_test[\"label\"]               # y: nhãn"
   ]
  },
  {
   "cell_type": "code",
   "execution_count": 26,
   "id": "535021e4-ece0-4b38-886e-44c6cade0967",
   "metadata": {
    "scrolled": true
   },
   "outputs": [
    {
     "name": "stdout",
     "output_type": "stream",
     "text": [
      "              precision    recall  f1-score   support\n",
      "\n",
      "           0       0.81      0.80      0.80      2478\n",
      "           1       0.80      0.81      0.81      2534\n",
      "\n",
      "    accuracy                           0.80      5012\n",
      "   macro avg       0.80      0.80      0.80      5012\n",
      "weighted avg       0.80      0.80      0.80      5012\n",
      "\n"
     ]
    }
   ],
   "source": [
    "# clf = SVC(kernel='linear')  # hoặc rbf\n",
    "# clf.fit(X, y)\n",
    "# np_clf_1 = SVC(kernel='rbf')  # hoặc rbf\n",
    "# np_clf_1.fit(X, y)\n",
    "# np_y_pred_1 = np_clf_1.predict(X_test)\n",
    "# print(classification_report(y_test, np_y_pred_1))"
   ]
  },
  {
   "cell_type": "markdown",
   "id": "574c9e5d-2d41-4ac4-bb48-c0edef9ad491",
   "metadata": {},
   "source": [
    "rbf tốt hơn linear\n",
    "\n",
    "80 > 76"
   ]
  },
  {
   "cell_type": "code",
   "execution_count": 2,
   "id": "c6c45c1d-006f-4818-9aa6-03a71b49c4f0",
   "metadata": {},
   "outputs": [],
   "source": [
    "X_hog = np.load(\"../models/vector/X_hog.npy\")\n",
    "y_hog = np.load(\"../models/vector/y_hog.npy\")\n",
    "X_hog_test = np.load(\"../models/vector/X_hog_test.npy\")\n",
    "y_hog_test = np.load(\"../models/vector/y_hog_test.npy\")"
   ]
  },
  {
   "cell_type": "code",
   "execution_count": 68,
   "id": "c2a44311-b9e6-4acb-9769-860d0e5970c5",
   "metadata": {},
   "outputs": [
    {
     "name": "stdout",
     "output_type": "stream",
     "text": [
      "              precision    recall  f1-score   support\n",
      "\n",
      "           0       0.74      0.83      0.79      2534\n",
      "           1       0.81      0.70      0.75      2478\n",
      "\n",
      "    accuracy                           0.77      5012\n",
      "   macro avg       0.77      0.77      0.77      5012\n",
      "weighted avg       0.77      0.77      0.77      5012\n",
      "\n"
     ]
    }
   ],
   "source": [
    "pipe = Pipeline([\n",
    "    ('pca', PCA(n_components=1024, svd_solver='randomized', random_state=42)),\n",
    "    ('clf', LinearSVC())\n",
    "])\n",
    "\n",
    "# Fit trên tập train\n",
    "pipe.fit(X, y)\n",
    "\n",
    "# Predict trên tập test\n",
    "y_pred = pipe.predict(X_test)\n",
    "\n",
    "# In ra classification report\n",
    "print(classification_report(y_test, y_pred))\n"
   ]
  },
  {
   "cell_type": "markdown",
   "id": "e6075622-266c-4942-9f90-9233d53d3c0c",
   "metadata": {},
   "source": [
    "### Train với vector LBP"
   ]
  },
  {
   "cell_type": "code",
   "execution_count": 19,
   "id": "f7cdf6b7-3c78-4424-9035-4ec3eed593d1",
   "metadata": {},
   "outputs": [],
   "source": [
    "X_lbp = np.load(\"../models/vector/X_lbp.npy\")\n",
    "y_lbp = np.load(\"../models/vector/y_lbp.npy\")\n",
    "X_lbp_test = np.load(\"../models/vector/X_lbp_test.npy\")\n",
    "y_lbp_test = np.load(\"../models/vector/y_lbp_test.npy\")"
   ]
  },
  {
   "cell_type": "code",
   "execution_count": 24,
   "id": "eca13cf1-2071-43ff-be79-9cc3893b6bf6",
   "metadata": {},
   "outputs": [
    {
     "data": {
      "text/plain": [
       "(19054, 3776)"
      ]
     },
     "execution_count": 24,
     "metadata": {},
     "output_type": "execute_result"
    }
   ],
   "source": [
    "y_lbp.shape"
   ]
  },
  {
   "cell_type": "code",
   "execution_count": 23,
   "id": "25153791-2f33-45eb-b8e0-337f9930c000",
   "metadata": {},
   "outputs": [
    {
     "name": "stdout",
     "output_type": "stream",
     "text": [
      "              precision    recall  f1-score   support\n",
      "\n",
      "           0       0.83      0.82      0.82      2478\n",
      "           1       0.82      0.83      0.83      2534\n",
      "\n",
      "    accuracy                           0.83      5012\n",
      "   macro avg       0.83      0.83      0.83      5012\n",
      "weighted avg       0.83      0.83      0.83      5012\n",
      "\n"
     ]
    }
   ],
   "source": [
    "# clf_lbp = SVC(kernel='rbf')  # hoặc rbf\n",
    "# clf_lbp.fit(X_lbp, y_lbp)\n",
    "# y_pred_lbp = clf_lbp.predict(X_lbp_test)\n",
    "# print(classification_report(y_lbp_test, y_pred_lbp))"
   ]
  },
  {
   "cell_type": "markdown",
   "id": "b4351be0-be5d-49af-8772-45229375eb99",
   "metadata": {},
   "source": [
    "### Áp dụng PCA "
   ]
  },
  {
   "cell_type": "code",
   "execution_count": 39,
   "id": "c6bc6082-604a-4323-8127-80d04a36cd11",
   "metadata": {},
   "outputs": [
    {
     "name": "stdout",
     "output_type": "stream",
     "text": [
      "{'pca__n_components': 1024} 0.8093342524654613\n"
     ]
    }
   ],
   "source": [
    "pipe = Pipeline([\n",
    "    ('pca', PCA(svd_solver='randomized', random_state=42)),\n",
    "    ('clf', LinearSVC())\n",
    "])\n",
    "\n",
    "param_grid = {'pca__n_components': [1024, 1500, 2000, 3000]}\n",
    "grid = GridSearchCV(pipe, param_grid, cv=3, n_jobs=-1, scoring='f1')\n",
    "grid.fit(X_lbp, y_lbp)\n",
    "print(grid.best_params_, grid.best_score_)"
   ]
  },
  {
   "cell_type": "code",
   "execution_count": 31,
   "id": "9312c470-6b7d-4fe5-ad0b-802dcf2422fb",
   "metadata": {
    "scrolled": true
   },
   "outputs": [
    {
     "name": "stdout",
     "output_type": "stream",
     "text": [
      "              precision    recall  f1-score   support\n",
      "\n",
      "           0       0.81      0.84      0.82      2478\n",
      "           1       0.83      0.80      0.82      2534\n",
      "\n",
      "    accuracy                           0.82      5012\n",
      "   macro avg       0.82      0.82      0.82      5012\n",
      "weighted avg       0.82      0.82      0.82      5012\n",
      "\n"
     ]
    }
   ],
   "source": [
    "# Tạo pipeline với số chiều đã chọn\n",
    "best_pipe = Pipeline([\n",
    "    ('pca', PCA(n_components=1024, svd_solver='randomized', random_state=42)),\n",
    "    ('clf', LinearSVC())\n",
    "])\n",
    "\n",
    "# Fit trên tập train\n",
    "best_pipe.fit(X_lbp, y_lbp)\n",
    "\n",
    "# Predict trên tập test\n",
    "y_pred = best_pipe.predict(X_lbp_test)\n",
    "\n",
    "# In ra classification report\n",
    "print(classification_report(y_lbp_test, y_pred))\n"
   ]
  },
  {
   "cell_type": "markdown",
   "id": "ab07decc-e40b-4daf-85c3-7f11ee174bee",
   "metadata": {},
   "source": [
    "### TRain LBP + HOG"
   ]
  },
  {
   "cell_type": "code",
   "execution_count": 21,
   "id": "5e3da124-3b31-4461-aeeb-a2c542ebea72",
   "metadata": {},
   "outputs": [
    {
     "data": {
      "text/plain": [
       "['../models/predict_models/svc_model.joblib']"
      ]
     },
     "execution_count": 21,
     "metadata": {},
     "output_type": "execute_result"
    }
   ],
   "source": [
    "# from joblib import dump, load\n",
    "\n",
    "# # Tạo thư mục nếu chưa tồn tại\n",
    "# os.makedirs('../models/predict_models', exist_ok=True)\n",
    "\n",
    "# dump(clf, r'../models/predict_models/svc_model.joblib')"
   ]
  },
  {
   "cell_type": "code",
   "execution_count": 27,
   "id": "3012e446-5f50-4760-b8f0-96c327901c97",
   "metadata": {},
   "outputs": [
    {
     "data": {
      "text/plain": [
       "['../models/predict_models/svc_model_numpy_rbf.joblib']"
      ]
     },
     "execution_count": 27,
     "metadata": {},
     "output_type": "execute_result"
    }
   ],
   "source": [
    "# from joblib import dump, load\n",
    "\n",
    "# # Tạo thư mục nếu chưa tồn tại\n",
    "# os.makedirs('../models/predict_models', exist_ok=True)\n",
    "\n",
    "# dump(np_clf_1, r'../models/predict_models/svc_model_numpy_rbf.joblib')"
   ]
  },
  {
   "cell_type": "code",
   "execution_count": null,
   "id": "c74d515b-2481-4832-96d2-8b135634fb0d",
   "metadata": {},
   "outputs": [],
   "source": []
  }
 ],
 "metadata": {
  "kernelspec": {
   "display_name": "Python 3 (ipykernel)",
   "language": "python",
   "name": "python3"
  },
  "language_info": {
   "codemirror_mode": {
    "name": "ipython",
    "version": 3
   },
   "file_extension": ".py",
   "mimetype": "text/x-python",
   "name": "python",
   "nbconvert_exporter": "python",
   "pygments_lexer": "ipython3",
   "version": "3.12.7"
  }
 },
 "nbformat": 4,
 "nbformat_minor": 5
}
