{
 "cells": [
  {
   "cell_type": "markdown",
   "id": "80e403cd-5716-40b6-9263-be02294afcd4",
   "metadata": {},
   "source": [
    "# Data Transforming"
   ]
  },
  {
   "cell_type": "code",
   "execution_count": 20,
   "id": "e5d17940-7cfb-433a-84b4-46d36c0f3371",
   "metadata": {},
   "outputs": [],
   "source": [
    "import os\n",
    "import cv2\n",
    "import pandas as pd\n",
    "import matplotlib.pyplot as plt\n",
    "import numpy as np\n",
    "from pathlib import Path\n",
    "from sklearn.preprocessing import StandardScaler\n",
    "from skimage.feature import local_binary_pattern, hog\n",
    "from skimage.color import rgb2gray\n",
    "from tqdm import tqdm\n",
    "from sklearn.preprocessing import MinMaxScaler, Normalizer, FunctionTransformer\n",
    "from sklearn.model_selection import train_test_split, GridSearchCV, StratifiedKFold\n",
    "from sklearn.svm import SVC, LinearSVC\n",
    "from sklearn.pipeline import Pipeline\n",
    "from sklearn.metrics import classification_report, accuracy_score, f1_score, confusion_matrix\n",
    "from sklearn.linear_model import LogisticRegression\n",
    "from sklearn.decomposition import PCA\n",
    "from sklearn.linear_model import LogisticRegression\n",
    "from sklearn.ensemble import RandomForestClassifier\n",
    "import time\n",
    "%matplotlib inline"
   ]
  },
  {
   "cell_type": "markdown",
   "id": "ac6fb895-c6ce-4fd0-8637-2fca4d60d893",
   "metadata": {},
   "source": [
    "## Xử lý ảnh"
   ]
  },
  {
   "cell_type": "markdown",
   "id": "2c7989e0-4adc-4989-996f-b0eb44580c78",
   "metadata": {},
   "source": [
    "### Hàm tiền xử lý ảnh"
   ]
  },
  {
   "cell_type": "code",
   "execution_count": 21,
   "id": "6efd1d6c-88c0-4504-8d2e-eaa743a7a977",
   "metadata": {},
   "outputs": [],
   "source": [
    "def preprocess_image(image_input, size=(128, 128), to_gray=True):\n",
    "    # Nếu là đường dẫn, đọc ảnh\n",
    "    if isinstance(image_input, str):\n",
    "        img = cv2.imread(image_input, cv2.IMREAD_UNCHANGED)\n",
    "        if img is None:\n",
    "            raise ValueError(f\"Không đọc được ảnh từ đường dẫn: {image_input}\")\n",
    "    # Nếu là ảnh ndarray, dùng trực tiếp\n",
    "    elif isinstance(image_input, np.ndarray):\n",
    "        img = image_input\n",
    "    else:\n",
    "        raise ValueError(\"Tham số truyền vào phải là đường dẫn hoặc ảnh numpy array\")\n",
    "\n",
    "    # Resize\n",
    "    img = cv2.resize(img, size)\n",
    "\n",
    "    # Convert to grayscale nếu cần\n",
    "    if to_gray:\n",
    "        if len(img.shape) == 2:\n",
    "            return img\n",
    "        elif len(img.shape) == 3 and img.shape[2] == 3:\n",
    "            return cv2.cvtColor(img, cv2.COLOR_BGR2GRAY)\n",
    "        else:\n",
    "            raise ValueError(\"Ảnh có số kênh không hợp lệ\")\n",
    "    return img\n"
   ]
  },
  {
   "cell_type": "markdown",
   "id": "7357d24b-a079-4d6b-b1e7-cb9ecedc301d",
   "metadata": {},
   "source": [
    "## Trích xuất vector từ ảnh"
   ]
  },
  {
   "cell_type": "markdown",
   "id": "5ab6c8c6-4b14-4918-afe1-78c4b23b68b0",
   "metadata": {},
   "source": [
    "### Extract HOG feature từ ảnh"
   ]
  },
  {
   "cell_type": "code",
   "execution_count": 22,
   "id": "1becac2a-c25d-45ca-9936-53ce9e4e89d1",
   "metadata": {},
   "outputs": [],
   "source": [
    "def extract_hog_features_opencv(image, size=(128, 128)):\n",
    "\n",
    "    gray = preprocess_image(image, size=size, to_gray=True)\n",
    "\n",
    "    hog = cv2.HOGDescriptor()\n",
    "    features = hog.compute(gray)\n",
    "    return features.flatten()"
   ]
  },
  {
   "cell_type": "markdown",
   "id": "13386b32-4702-4653-98d2-7eda3f5f9e13",
   "metadata": {},
   "source": [
    "### Extract LBP feature từ ảnh"
   ]
  },
  {
   "cell_type": "code",
   "execution_count": 23,
   "id": "d75009b9-38d7-4bf6-97a6-e470db1327b4",
   "metadata": {},
   "outputs": [],
   "source": [
    "def extract_lbp_features_blockwise(image_path, size=(128, 128), block_size=(16, 16), P=8, R=1, method='uniform'):\n",
    "    gray = preprocess_image(image_path, size)\n",
    "\n",
    "    lbp = local_binary_pattern(gray, P, R, method)\n",
    "\n",
    "    h, w = size\n",
    "    bh, bw = block_size\n",
    "    blocks_y = h // bh\n",
    "    blocks_x = w // bw\n",
    "\n",
    "    # Xác định số bins theo method\n",
    "    # if method == 'uniform':\n",
    "    #     n_bins = P + 2\n",
    "    # else:\n",
    "    #     n_bins = 2 ** P\n",
    "    n_bins=59\n",
    "\n",
    "    features = []\n",
    "    for i in range(blocks_y):\n",
    "        for j in range(blocks_x):\n",
    "            block = lbp[i*bh:(i+1)*bh, j*bw:(j+1)*bw]\n",
    "            hist, _ = np.histogram(block.ravel(), bins=n_bins, range=(0, n_bins))\n",
    "            hist = hist.astype(\"float32\")\n",
    "            hist /= (hist.sum() + 1e-6)  # chuẩn hóa\n",
    "            features.extend(hist)\n",
    "\n",
    "    return np.array(features)\n"
   ]
  },
  {
   "cell_type": "markdown",
   "id": "5e0cc4f9-5b3d-47a0-98ef-5192f4435cba",
   "metadata": {},
   "source": [
    "### Kết hợp HOG và LBP"
   ]
  },
  {
   "cell_type": "code",
   "execution_count": 24,
   "id": "f8ffc0f3-86f3-4842-965b-3e41ba5fcb9d",
   "metadata": {},
   "outputs": [],
   "source": [
    "def extract_hog_lbp_features(image, size=(128, 128)):\n",
    "    # Trích từng loại đặc trưng\n",
    "    hog_vec = extract_hog_features_opencv(image, size=size)\n",
    "    lbp_vec = extract_lbp_features_blockwise(image, size=size)\n",
    "\n",
    "    # Gộp 2 vector lại\n",
    "    combined = np.concatenate([hog_vec, lbp_vec])\n",
    "\n",
    "    return combined"
   ]
  },
  {
   "cell_type": "markdown",
   "id": "28da0f65-17db-4738-ae33-6e4fc7065022",
   "metadata": {},
   "source": [
    "## Trích xuất vector từ các ảnh trong thư mục"
   ]
  },
  {
   "cell_type": "markdown",
   "id": "9599218c-c749-4267-ab11-7f0bdf5144ee",
   "metadata": {},
   "source": [
    "### HOG"
   ]
  },
  {
   "cell_type": "code",
   "execution_count": 25,
   "id": "e741a80f-0680-40c9-9d31-1486b6b27172",
   "metadata": {},
   "outputs": [],
   "source": [
    "def load_hog_features_from_folder(folder_path, label_value, size=(128, 128)):\n",
    "    X_list = []\n",
    "\n",
    "    for file in tqdm(os.listdir(folder_path), desc=f\"Đang xử lý {folder_path}\"):\n",
    "        file_path = os.path.join(folder_path, file)\n",
    "        img = cv2.imread(file_path)\n",
    "        if img is None:\n",
    "            print(f\"Không đọc được ảnh: {file_path}\")\n",
    "            continue\n",
    "        try:\n",
    "            hog_vector = extract_hog_features_opencv(img, size=size)\n",
    "            X_list.append(hog_vector)\n",
    "        except Exception as e:\n",
    "            print(f\"Lỗi xử lý ảnh {file_path}: {e}\")\n",
    "\n",
    "    # Chuyển sang NumPy array\n",
    "    X = np.array(X_list, dtype=np.float32)\n",
    "    return X\n"
   ]
  },
  {
   "cell_type": "markdown",
   "id": "5780be2c-e766-474e-b8b1-e77337b92d10",
   "metadata": {},
   "source": [
    "### LBP "
   ]
  },
  {
   "cell_type": "code",
   "execution_count": 26,
   "id": "9543d9ff-40e4-4c4f-a632-c594849b67ec",
   "metadata": {},
   "outputs": [],
   "source": [
    "def load_lbp_features_from_folder(folder_path, label_value, size=(128, 128),\n",
    "                                  block_size=(16, 16), P=8, R=1, method='uniform', max_images=None):\n",
    "    \n",
    "    X_list = []\n",
    "\n",
    "    files = [f for f in os.listdir(folder_path) if f.lower().endswith(('.jpg', '.jpeg', '.png'))]\n",
    "    if max_images:\n",
    "        files = files[:max_images]\n",
    "\n",
    "    for file in tqdm(files, desc=f\"Đang xử lý {folder_path}\"):\n",
    "        file_path = os.path.join(folder_path, file)\n",
    "        try:\n",
    "            lbp_vector = extract_lbp_features_blockwise(\n",
    "                file_path, size=size, block_size=block_size,\n",
    "                P=P, R=R, method=method\n",
    "            )\n",
    "            X_list.append(lbp_vector)\n",
    "        except Exception as e:\n",
    "            print(f\"Lỗi xử lý ảnh {file_path}: {e}\")\n",
    "\n",
    "    X = np.array(X_list, dtype=np.float32)\n",
    "    return X"
   ]
  },
  {
   "cell_type": "markdown",
   "id": "108d98df-2650-4498-8275-9d561cc89dd8",
   "metadata": {},
   "source": [
    "### HOG + LBP"
   ]
  },
  {
   "cell_type": "code",
   "execution_count": 39,
   "id": "4587f645-6a2c-422b-bc5a-47d04e5ce410",
   "metadata": {},
   "outputs": [],
   "source": [
    "def load_hog_lbp_features_from_folder(folder_path, label_value, size=(128, 128),\n",
    "                                      block_size=(16, 16), P=8, R=1, method='uniform',\n",
    "                                      max_images=None):\n",
    "    X_list = []\n",
    "\n",
    "    # Lọc file ảnh\n",
    "    files = [f for f in os.listdir(folder_path) if f.lower().endswith(('.jpg', '.jpeg', '.png'))]\n",
    "    if max_images:\n",
    "        files = files[:max_images]\n",
    "\n",
    "    for file in tqdm(files, desc=f\"Đang xử lý {folder_path}\"):\n",
    "        file_path = os.path.join(folder_path, file)\n",
    "        try:\n",
    "            combined_vector = extract_hog_lbp_features(file_path, size=size)\n",
    "            X_list.append(combined_vector)\n",
    "        except Exception as e:\n",
    "            print(f\"Lỗi xử lý ảnh {file_path}: {e}\")\n",
    "\n",
    "    X = np.array(X_list, dtype=np.float32)\n",
    "    return X"
   ]
  },
  {
   "cell_type": "markdown",
   "id": "6ccb7ec6-13c5-4710-b964-ad2a31ecd432",
   "metadata": {},
   "source": [
    "### Gắn nhãn"
   ]
  },
  {
   "cell_type": "code",
   "execution_count": 46,
   "id": "1700e1e0-fd89-4c80-b261-b342864414dc",
   "metadata": {},
   "outputs": [],
   "source": [
    "def load_labels_from_folder(folder_path, label_value):\n",
    "    y_list = []\n",
    "    for file in tqdm(os.listdir(folder_path), desc=f\"Đang gán nhãn {folder_path}\"):\n",
    "        file_path = os.path.join(folder_path, file)\n",
    "        if os.path.isfile(file_path):   # tránh folder con\n",
    "            y_list.append(label_value)\n",
    "\n",
    "    return np.array(y_list, dtype=np.int32)"
   ]
  },
  {
   "cell_type": "markdown",
   "id": "943b7484-2582-4d51-ac8f-535dd83563f0",
   "metadata": {},
   "source": [
    "## Xây dựng dataframe từ vector"
   ]
  },
  {
   "cell_type": "markdown",
   "id": "d9660f28-fcab-441a-87ef-8fb69c48e17c",
   "metadata": {},
   "source": [
    "### Build HOG Numpy"
   ]
  },
  {
   "cell_type": "code",
   "execution_count": 28,
   "id": "8e4ace9b-10b5-414c-ad5a-226e0803e1c3",
   "metadata": {},
   "outputs": [],
   "source": [
    "def build_hog_numpy(real_folder, fake_folder, size=(128, 128)):\n",
    "    X_real = load_hog_features_from_folder(real_folder, label_value=0, size=size)\n",
    "    X_fake = load_hog_features_from_folder(fake_folder, label_value=1, size=size)\n",
    "\n",
    "    X = np.vstack([X_real, X_fake])\n",
    "    return X"
   ]
  },
  {
   "cell_type": "markdown",
   "id": "af78ffc8-a177-425b-8ff8-fd62cb5ac731",
   "metadata": {},
   "source": [
    "### Build LBP Numpy"
   ]
  },
  {
   "cell_type": "code",
   "execution_count": 29,
   "id": "78b4ecee-5e96-4568-be13-d60777ffc7db",
   "metadata": {},
   "outputs": [],
   "source": [
    "def build_lbp_numpy(real_folder, fake_folder, size=(128, 128),\n",
    "                      block_size=(16, 16), P=8, R=1, method='uniform', max_images=None):\n",
    "    X_real = load_lbp_features_from_folder(real_folder, label_value=0,\n",
    "                                                   size=size, block_size=block_size,\n",
    "                                                   P=P, R=R, method=method, max_images=max_images)\n",
    "    X_fake = load_lbp_features_from_folder(fake_folder, label_value=1,\n",
    "                                                   size=size, block_size=block_size,\n",
    "                                                   P=P, R=R, method=method, max_images=max_images)\n",
    "    X = np.vstack([X_real, X_fake])\n",
    "    return X"
   ]
  },
  {
   "cell_type": "markdown",
   "id": "f1823fd9-a4db-4186-ad29-7e9363b79fcf",
   "metadata": {},
   "source": [
    "### Build HOG + LBP Numpy"
   ]
  },
  {
   "cell_type": "code",
   "execution_count": 30,
   "id": "5d92fa10-1a2e-4a3c-ad0b-4448cd3bc37c",
   "metadata": {},
   "outputs": [],
   "source": [
    "def build_hog_lbp_numpy(real_folder, fake_folder, size=(128, 128), max_images=None):\n",
    "    # Real -> label 0\n",
    "    X_real = load_hog_lbp_features_from_folder(real_folder, label_value=0, size=size, max_images=max_images)\n",
    "\n",
    "    # Fake -> label 1\n",
    "    X_fake = load_hog_lbp_features_from_folder(fake_folder, label_value=1, size=size, max_images=max_images)\n",
    "    \n",
    "    # Ghép lại\n",
    "    X = np.vstack([X_real, X_fake])\n",
    "\n",
    "    return X"
   ]
  },
  {
   "cell_type": "markdown",
   "id": "f5de2463-9393-429b-92fc-e684f1d76ced",
   "metadata": {},
   "source": [
    "### Label Numpy"
   ]
  },
  {
   "cell_type": "code",
   "execution_count": 47,
   "id": "abd1bb94-1be1-4cfc-806b-0bb0921e2e02",
   "metadata": {},
   "outputs": [],
   "source": [
    "def build_labels(real_folder, fake_folder):\n",
    "    y_real = load_labels_from_folder(real_folder, label_value=0)\n",
    "    y_fake = load_labels_from_folder(fake_folder, label_value=1)\n",
    "\n",
    "    y = np.hstack([y_real, y_fake])\n",
    "    return y"
   ]
  },
  {
   "cell_type": "markdown",
   "id": "50aab22f-4a3b-4606-9d21-76c48f2fa239",
   "metadata": {},
   "source": [
    "## Tạo Vector"
   ]
  },
  {
   "cell_type": "code",
   "execution_count": 31,
   "id": "29ff25ec-396a-43a0-abe1-fba8b0395c32",
   "metadata": {},
   "outputs": [],
   "source": [
    "real_dir = \"../data/cropped/train/cropped_real\"\n",
    "fake_dir = \"../data/cropped/train/cropped_fake\"\n",
    "real_test_dir = \"../data/cropped/test/cropped_real\"\n",
    "fake_test_dir = \"../data/cropped/test/cropped_fake\""
   ]
  },
  {
   "cell_type": "code",
   "execution_count": 32,
   "id": "5a218e49-835d-4553-b265-0e9908d1d570",
   "metadata": {},
   "outputs": [],
   "source": [
    "# Tạo thư mục nếu chưa tồn tại\n",
    "os.makedirs('../models/vector', exist_ok=True)"
   ]
  },
  {
   "cell_type": "markdown",
   "id": "d00f6dd2-1577-4ab2-9e5d-2fdf82ccd3f5",
   "metadata": {},
   "source": [
    "### HOG"
   ]
  },
  {
   "cell_type": "code",
   "execution_count": 33,
   "id": "3b3abf44-879e-4fe8-8595-5ea2c03e002d",
   "metadata": {
    "scrolled": true
   },
   "outputs": [
    {
     "name": "stderr",
     "output_type": "stream",
     "text": [
      "Đang xử lý ../data/cropped/train/cropped_real: 100%|█████████████████████████████| 9606/9606 [00:05<00:00, 1648.88it/s]\n",
      "Đang xử lý ../data/cropped/train/cropped_fake: 100%|█████████████████████████████| 9448/9448 [00:05<00:00, 1678.93it/s]\n"
     ]
    }
   ],
   "source": [
    "X_hog_train = build_hog_numpy(real_dir, fake_dir)"
   ]
  },
  {
   "cell_type": "code",
   "execution_count": 34,
   "id": "c41df67a-3d1e-4a5c-93eb-121842045d1e",
   "metadata": {},
   "outputs": [
    {
     "name": "stdout",
     "output_type": "stream",
     "text": [
      "X_hog shape: (19054, 34020)\n"
     ]
    }
   ],
   "source": [
    "print(\"X_hog shape:\", X_hog_train.shape)"
   ]
  },
  {
   "cell_type": "code",
   "execution_count": 35,
   "id": "9a433ef1-e75c-43fe-b8c1-abac20afaa88",
   "metadata": {},
   "outputs": [
    {
     "name": "stderr",
     "output_type": "stream",
     "text": [
      "Đang xử lý ../data/cropped/test/cropped_real: 100%|███████████████████████████████| 2534/2534 [00:02<00:00, 959.21it/s]\n",
      "Đang xử lý ../data/cropped/test/cropped_fake: 100%|███████████████████████████████| 2478/2478 [00:02<00:00, 928.85it/s]\n"
     ]
    }
   ],
   "source": [
    "X_hog_test = build_hog_numpy(real_test_dir, fake_test_dir)"
   ]
  },
  {
   "cell_type": "code",
   "execution_count": 36,
   "id": "95b81ce7-9603-4396-b1cd-287099b667a9",
   "metadata": {},
   "outputs": [
    {
     "name": "stdout",
     "output_type": "stream",
     "text": [
      "X_hog test shape: (5012, 34020)\n"
     ]
    }
   ],
   "source": [
    "print(\"X_hog test shape:\", X_hog_test.shape)"
   ]
  },
  {
   "cell_type": "code",
   "execution_count": 37,
   "id": "4a6e76d8-a10f-42f1-b4c7-c91eac4dbd2c",
   "metadata": {},
   "outputs": [],
   "source": [
    "np.save(\"../models/vector/X_hog_train.npy\", X_hog_train)\n",
    "np.save(\"../models/vector/X_hog_test.npy\", X_hog_test)"
   ]
  },
  {
   "cell_type": "markdown",
   "id": "2d3b3d7a-b7ab-4cc3-b67d-48053c14e460",
   "metadata": {},
   "source": [
    "### LBP"
   ]
  },
  {
   "cell_type": "code",
   "execution_count": 40,
   "id": "547caac0-0dfb-442a-ac3e-84b0fb361118",
   "metadata": {
    "scrolled": true
   },
   "outputs": [
    {
     "name": "stderr",
     "output_type": "stream",
     "text": [
      "Đang xử lý ../data/cropped/train/cropped_real: 100%|██████████████████████████████| 9606/9606 [01:15<00:00, 127.31it/s]\n",
      "Đang xử lý ../data/cropped/train/cropped_fake: 100%|██████████████████████████████| 9448/9448 [01:17<00:00, 122.50it/s]\n"
     ]
    },
    {
     "name": "stdout",
     "output_type": "stream",
     "text": [
      "X_lbp shape: (19054, 3776)\n"
     ]
    }
   ],
   "source": [
    "X_lbp_train = build_lbp_numpy(real_dir, fake_dir)\n",
    "\n",
    "print(\"X_lbp shape:\", X_lbp_train.shape)"
   ]
  },
  {
   "cell_type": "code",
   "execution_count": 41,
   "id": "74ea06a9-14a6-46e9-a83d-5f9f838a566f",
   "metadata": {},
   "outputs": [
    {
     "name": "stderr",
     "output_type": "stream",
     "text": [
      "Đang xử lý ../data/cropped/test/cropped_real: 100%|███████████████████████████████| 2534/2534 [00:21<00:00, 119.35it/s]\n",
      "Đang xử lý ../data/cropped/test/cropped_fake: 100%|███████████████████████████████| 2478/2478 [00:20<00:00, 123.66it/s]"
     ]
    },
    {
     "name": "stdout",
     "output_type": "stream",
     "text": [
      "X_lbp test shape: (5012, 3776)\n"
     ]
    },
    {
     "name": "stderr",
     "output_type": "stream",
     "text": [
      "\n"
     ]
    }
   ],
   "source": [
    "X_lbp_test = build_lbp_numpy(real_test_dir, fake_test_dir)\n",
    "\n",
    "print(\"X_lbp test shape:\", X_lbp_test.shape)"
   ]
  },
  {
   "cell_type": "code",
   "execution_count": 42,
   "id": "70a5e2af-0e2b-4a60-a8b5-fe3a2a31d5f4",
   "metadata": {},
   "outputs": [],
   "source": [
    "np.save(\"../models/vector/X_lbp_train.npy\", X_lbp_train)\n",
    "np.save(\"../models/vector/X_lbp_test.npy\", X_lbp_test)"
   ]
  },
  {
   "cell_type": "markdown",
   "id": "35ce749c-1cb6-4bf8-bcb1-6c20f0e96eb0",
   "metadata": {},
   "source": [
    "### HOG + LBP"
   ]
  },
  {
   "cell_type": "code",
   "execution_count": 43,
   "id": "44b64792-6cc5-492e-b506-b3e63bc9cd33",
   "metadata": {},
   "outputs": [
    {
     "name": "stderr",
     "output_type": "stream",
     "text": [
      "Đang xử lý ../data/cropped/train/cropped_real: 100%|██████████████████████████████| 9606/9606 [01:18<00:00, 122.38it/s]\n",
      "Đang xử lý ../data/cropped/train/cropped_fake: 100%|██████████████████████████████| 9448/9448 [01:23<00:00, 113.75it/s]\n"
     ]
    },
    {
     "name": "stdout",
     "output_type": "stream",
     "text": [
      "X shape: (19054, 37796)\n"
     ]
    }
   ],
   "source": [
    "X_train = build_hog_lbp_numpy(real_dir, fake_dir)\n",
    "\n",
    "print(\"X shape:\", X_train.shape)"
   ]
  },
  {
   "cell_type": "code",
   "execution_count": 44,
   "id": "d414e17c-b813-462f-8583-1faea5d3ec86",
   "metadata": {
    "scrolled": true
   },
   "outputs": [
    {
     "name": "stderr",
     "output_type": "stream",
     "text": [
      "Đang xử lý ../data/cropped/test/cropped_real: 100%|████████████████████████████████| 2534/2534 [00:25<00:00, 98.98it/s]\n",
      "Đang xử lý ../data/cropped/test/cropped_fake: 100%|███████████████████████████████| 2478/2478 [00:21<00:00, 116.24it/s]\n"
     ]
    },
    {
     "name": "stdout",
     "output_type": "stream",
     "text": [
      "X test shape: (5012, 37796)\n"
     ]
    }
   ],
   "source": [
    "X_test = build_hog_lbp_numpy(real_test_dir, fake_test_dir)\n",
    "\n",
    "print(\"X test shape:\", X_test.shape)"
   ]
  },
  {
   "cell_type": "code",
   "execution_count": 45,
   "id": "d9f9eac7-9fa9-4aa6-b054-79f31f38f002",
   "metadata": {},
   "outputs": [],
   "source": [
    "np.save(\"../models/vector/X_train\", X_train)\n",
    "np.save(\"../models/vector/X_test.npy\", X_test)"
   ]
  },
  {
   "cell_type": "markdown",
   "id": "d48cee86-e323-4bf8-b3c7-a7d4dc3fef65",
   "metadata": {},
   "source": [
    "### Label"
   ]
  },
  {
   "cell_type": "code",
   "execution_count": 48,
   "id": "939371b2-0a35-48a4-b0a4-fd83efdddfad",
   "metadata": {},
   "outputs": [
    {
     "name": "stderr",
     "output_type": "stream",
     "text": [
      "Đang gán nhãn ../data/cropped/train/cropped_real: 100%|█████████████████████████| 9606/9606 [00:00<00:00, 17802.64it/s]\n",
      "Đang gán nhãn ../data/cropped/train/cropped_fake: 100%|█████████████████████████| 9448/9448 [00:00<00:00, 38737.44it/s]"
     ]
    },
    {
     "name": "stdout",
     "output_type": "stream",
     "text": [
      "(19054,)\n",
      "(array([0, 1], dtype=uint8), array([2534, 2478], dtype=int64))\n"
     ]
    },
    {
     "name": "stderr",
     "output_type": "stream",
     "text": [
      "\n"
     ]
    }
   ],
   "source": [
    "y_train = build_labels(real_dir, fake_dir)\n",
    "print(y_train.shape)\n",
    "print(np.unique(y_test, return_counts=True))"
   ]
  },
  {
   "cell_type": "code",
   "execution_count": 49,
   "id": "4b653e43-e282-42e0-a4fc-c291e000acd4",
   "metadata": {},
   "outputs": [
    {
     "name": "stderr",
     "output_type": "stream",
     "text": [
      "Đang gán nhãn ../data/cropped/test/cropped_real: 100%|██████████████████████████| 2534/2534 [00:00<00:00, 73513.53it/s]\n",
      "Đang gán nhãn ../data/cropped/test/cropped_fake: 100%|██████████████████████████| 2478/2478 [00:00<00:00, 71401.48it/s]"
     ]
    },
    {
     "name": "stdout",
     "output_type": "stream",
     "text": [
      "(5012,)\n",
      "(array([0, 1]), array([2534, 2478], dtype=int64))\n"
     ]
    },
    {
     "name": "stderr",
     "output_type": "stream",
     "text": [
      "\n"
     ]
    }
   ],
   "source": [
    "y_test = build_labels(real_test_dir, fake_test_dir)\n",
    "print(y_test.shape)\n",
    "print(np.unique(y_test, return_counts=True))"
   ]
  },
  {
   "cell_type": "code",
   "execution_count": 50,
   "id": "0fba951f-6c6e-4c78-9bef-76d1e172b534",
   "metadata": {},
   "outputs": [],
   "source": [
    "np.save(\"../models/vector/y_train\", y_train)\n",
    "np.save(\"../models/vector/y_test.npy\", y_test)"
   ]
  },
  {
   "cell_type": "markdown",
   "id": "edd40d16-9a0a-4671-89fa-c3acd60509fa",
   "metadata": {},
   "source": [
    "## Load vector"
   ]
  },
  {
   "cell_type": "code",
   "execution_count": 51,
   "id": "de581a13-2fd1-4103-be81-c78662b19345",
   "metadata": {},
   "outputs": [],
   "source": [
    "# HOG VECTOR\n",
    "X_hog_train = np.load(\"../models/vector/X_hog_train.npy\")\n",
    "X_hog_test = np.load(\"../models/vector/X_hog_test.npy\")\n",
    "\n",
    "# LBP VECTOR\n",
    "X_lbp_train = np.load(\"../models/vector/X_lbp_train.npy\")\n",
    "X_lbp_test = np.load(\"../models/vector/X_lbp_test.npy\")\n",
    "\n",
    "# HOG + LBP VECTOR\n",
    "X_train = np.load(\"../models/vector/X_train.npy\")\n",
    "X_test = np.load(\"../models/vector/X_test.npy\")\n",
    "\n",
    "# Label\n",
    "y_train = np.load(\"../models/vector/y_train.npy\")\n",
    "y_test = np.load(\"../models/vector/y_test.npy\")"
   ]
  },
  {
   "cell_type": "markdown",
   "id": "645dfbcb-e060-4b70-b353-a000696f50fc",
   "metadata": {},
   "source": [
    "## Chọn PCA"
   ]
  },
  {
   "cell_type": "code",
   "execution_count": 53,
   "id": "11d32f21-097e-4948-8046-b77c8dad75c4",
   "metadata": {},
   "outputs": [],
   "source": [
    "# Datasets\n",
    "datasets = {\n",
    "     'HOG': (X_hog_train, y_train, X_hog_test, y_test),\n",
    "     'LBP': (X_lbp_train, y_train, X_lbp_test, y_test),\n",
    "     'HOG+LBP': (X_train, y_train, X_test, y_test)\n",
    "}"
   ]
  },
  {
   "cell_type": "code",
   "execution_count": 54,
   "id": "c80735e0-c4a5-4427-be1c-cff1cd56e0ba",
   "metadata": {},
   "outputs": [
    {
     "data": {
      "image/png": "[encoded data removed]",
      "text/plain": [
       "<Figure size 800x600 with 1 Axes>"
      ]
     },
     "metadata": {},
     "output_type": "display_data"
    }
   ],
   "source": [
    "k_max = 1500\n",
    "threshold = 0.95\n",
    "plt.figure(figsize=(8,6))\n",
    "\n",
    "for name, (Xtr, ytr, Xte, yte) in datasets.items():\n",
    "    scaler = StandardScaler(with_mean=True)\n",
    "    Xtr_s = scaler.fit_transform(Xtr)\n",
    "\n",
    "    pca_full = PCA(n_components=k_max, svd_solver='randomized', random_state=42).fit(Xtr_s)\n",
    "    explained_cum = np.cumsum(pca_full.explained_variance_ratio_)\n",
    "\n",
    "    if np.any(explained_cum >= threshold):\n",
    "        k_opt = np.argmax(explained_cum >= threshold) + 1\n",
    "    else:\n",
    "        k_opt = len(explained_cum) \n",
    "\n",
    "    plt.plot(np.arange(1, len(explained_cum)+1), explained_cum, label=f\"{name} (k={k_opt})\")\n",
    "\n",
    "plt.axhline(y=threshold, color='red', linestyle='--')\n",
    "plt.xlabel(\"Số chiều PCA\")\n",
    "plt.ylabel(\"Tổng phương sai giữ lại\")\n",
    "plt.grid(True)\n",
    "plt.legend()\n",
    "plt.show()\n"
   ]
  },
  {
   "cell_type": "code",
   "execution_count": 55,
   "id": "e98e2fa5-d656-49f1-ba7c-9281fbea3925",
   "metadata": {},
   "outputs": [],
   "source": [
    "# mapping số chiều PCA theo descriptor\n",
    "pca_dims = {\n",
    "    'LBP': 420,\n",
    "    'HOG': 1024,\n",
    "    'HOG+LBP': 1024\n",
    "}"
   ]
  },
  {
   "cell_type": "markdown",
   "id": "a236c1da-c9e8-4aa1-9da8-56237a8092f0",
   "metadata": {},
   "source": [
    "## Training Model"
   ]
  },
  {
   "cell_type": "markdown",
   "id": "7926768d-ae31-4d3d-8c7f-dabc2a7aa555",
   "metadata": {},
   "source": [
    "### Chuẩn bị model huấn luyện"
   ]
  },
  {
   "cell_type": "code",
   "execution_count": 56,
   "id": "0c438047-9399-464e-95b2-de01fce26245",
   "metadata": {},
   "outputs": [],
   "source": [
    "# Các model\n",
    "models = {\n",
    "    'LogisticRegression': LogisticRegression(max_iter=1000, class_weight='balanced'),\n",
    "    'SVC': SVC(class_weight='balanced'),\n",
    "    'RandomForest': RandomForestClassifier(class_weight='balanced', random_state=42)\n",
    "}"
   ]
  },
  {
   "cell_type": "code",
   "execution_count": 59,
   "id": "31c288ad-b617-4cd1-8792-67b435264a36",
   "metadata": {},
   "outputs": [],
   "source": [
    "# Hàm đánh giá\n",
    "def evaluate_descriptor(desc_name, X_train, y_train, X_test, y_test, models):\n",
    "    for model_name, model in models.items():\n",
    "        print(f\"\\n--- {desc_name} | Model: {model_name} ---\")\n",
    "\n",
    "        pipe = Pipeline([\n",
    "            ('scaler', StandardScaler(with_mean=True)),\n",
    "            ('pca', PCA(n_components=pca_dims[desc_name], \n",
    "                        svd_solver='randomized', random_state=42)),\n",
    "            ('clf', model)\n",
    "        ])\n",
    "        pipe.fit(X_train, y_train)\n",
    "        y_pred = pipe.predict(X_test)\n",
    "\n",
    "        # In classification report\n",
    "        print(classification_report(y_test, y_pred))\n",
    "\n",
    "        # In confusion matrix\n",
    "        cm = confusion_matrix(y_test, y_pred)\n",
    "        print(\"Confusion Matrix:\")\n",
    "        print(cm)\n",
    "    return"
   ]
  },
  {
   "cell_type": "markdown",
   "id": "606292d7-0ee2-4832-b254-6d43191cf5c0",
   "metadata": {},
   "source": [
    "### Đánh giá các mô hình"
   ]
  },
  {
   "cell_type": "code",
   "execution_count": 60,
   "id": "38a36e22-621a-4573-bd49-91a13c4e2b3d",
   "metadata": {},
   "outputs": [
    {
     "name": "stdout",
     "output_type": "stream",
     "text": [
      "\n",
      "--- HOG | Model: LogisticRegression ---\n",
      "              precision    recall  f1-score   support\n",
      "\n",
      "           0       0.75      0.83      0.79      2534\n",
      "           1       0.80      0.72      0.76      2478\n",
      "\n",
      "    accuracy                           0.78      5012\n",
      "   macro avg       0.78      0.78      0.78      5012\n",
      "weighted avg       0.78      0.78      0.78      5012\n",
      "\n",
      "Confusion Matrix:\n",
      "[[2100  434]\n",
      " [ 688 1790]]\n",
      "\n",
      "--- HOG | Model: SVC ---\n",
      "              precision    recall  f1-score   support\n",
      "\n",
      "           0       0.78      0.86      0.81      2534\n",
      "           1       0.84      0.75      0.79      2478\n",
      "\n",
      "    accuracy                           0.80      5012\n",
      "   macro avg       0.81      0.80      0.80      5012\n",
      "weighted avg       0.81      0.80      0.80      5012\n",
      "\n",
      "Confusion Matrix:\n",
      "[[2171  363]\n",
      " [ 623 1855]]\n",
      "\n",
      "--- HOG | Model: RandomForest ---\n",
      "              precision    recall  f1-score   support\n",
      "\n",
      "           0       0.64      0.64      0.64      2534\n",
      "           1       0.63      0.63      0.63      2478\n",
      "\n",
      "    accuracy                           0.63      5012\n",
      "   macro avg       0.63      0.63      0.63      5012\n",
      "weighted avg       0.63      0.63      0.63      5012\n",
      "\n",
      "Confusion Matrix:\n",
      "[[1613  921]\n",
      " [ 916 1562]]\n",
      "\n",
      "--- LBP | Model: LogisticRegression ---\n",
      "              precision    recall  f1-score   support\n",
      "\n",
      "           0       0.83      0.80      0.82      2534\n",
      "           1       0.80      0.84      0.82      2478\n",
      "\n",
      "    accuracy                           0.82      5012\n",
      "   macro avg       0.82      0.82      0.82      5012\n",
      "weighted avg       0.82      0.82      0.82      5012\n",
      "\n",
      "Confusion Matrix:\n",
      "[[2024  510]\n",
      " [ 407 2071]]\n",
      "\n",
      "--- LBP | Model: SVC ---\n",
      "              precision    recall  f1-score   support\n",
      "\n",
      "           0       0.87      0.85      0.86      2534\n",
      "           1       0.85      0.87      0.86      2478\n",
      "\n",
      "    accuracy                           0.86      5012\n",
      "   macro avg       0.86      0.86      0.86      5012\n",
      "weighted avg       0.86      0.86      0.86      5012\n",
      "\n",
      "Confusion Matrix:\n",
      "[[2158  376]\n",
      " [ 318 2160]]\n",
      "\n",
      "--- LBP | Model: RandomForest ---\n",
      "              precision    recall  f1-score   support\n",
      "\n",
      "           0       0.76      0.76      0.76      2534\n",
      "           1       0.76      0.76      0.76      2478\n",
      "\n",
      "    accuracy                           0.76      5012\n",
      "   macro avg       0.76      0.76      0.76      5012\n",
      "weighted avg       0.76      0.76      0.76      5012\n",
      "\n",
      "Confusion Matrix:\n",
      "[[1929  605]\n",
      " [ 606 1872]]\n",
      "\n",
      "--- HOG+LBP | Model: LogisticRegression ---\n",
      "              precision    recall  f1-score   support\n",
      "\n",
      "           0       0.77      0.83      0.80      2534\n",
      "           1       0.81      0.75      0.78      2478\n",
      "\n",
      "    accuracy                           0.79      5012\n",
      "   macro avg       0.79      0.79      0.79      5012\n",
      "weighted avg       0.79      0.79      0.79      5012\n",
      "\n",
      "Confusion Matrix:\n",
      "[[2091  443]\n",
      " [ 621 1857]]\n",
      "\n",
      "--- HOG+LBP | Model: SVC ---\n",
      "              precision    recall  f1-score   support\n",
      "\n",
      "           0       0.81      0.84      0.83      2534\n",
      "           1       0.83      0.80      0.82      2478\n",
      "\n",
      "    accuracy                           0.82      5012\n",
      "   macro avg       0.82      0.82      0.82      5012\n",
      "weighted avg       0.82      0.82      0.82      5012\n",
      "\n",
      "Confusion Matrix:\n",
      "[[2141  393]\n",
      " [ 497 1981]]\n",
      "\n",
      "--- HOG+LBP | Model: RandomForest ---\n",
      "              precision    recall  f1-score   support\n",
      "\n",
      "           0       0.62      0.60      0.61      2534\n",
      "           1       0.61      0.63      0.62      2478\n",
      "\n",
      "    accuracy                           0.62      5012\n",
      "   macro avg       0.62      0.62      0.62      5012\n",
      "weighted avg       0.62      0.62      0.62      5012\n",
      "\n",
      "Confusion Matrix:\n",
      "[[1533 1001]\n",
      " [ 923 1555]]\n"
     ]
    }
   ],
   "source": [
    "# Chạy tất cả\n",
    "for desc_name, (X_train, y_train, X_test, y_test) in datasets.items():\n",
    "    evaluate_descriptor(desc_name, X_train, y_train, X_test, y_test, models)"
   ]
  }
 ],
 "metadata": {
  "kernelspec": {
   "display_name": "Python 3 (ipykernel)",
   "language": "python",
   "name": "python3"
  },
  "language_info": {
   "codemirror_mode": {
    "name": "ipython",
    "version": 3
   },
   "file_extension": ".py",
   "mimetype": "text/x-python",
   "name": "python",
   "nbconvert_exporter": "python",
   "pygments_lexer": "ipython3",
   "version": "3.12.7"
  }
 },
 "nbformat": 4,
 "nbformat_minor": 5
}
